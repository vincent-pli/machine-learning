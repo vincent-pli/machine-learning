{
  "nbformat": 4,
  "nbformat_minor": 0,
  "metadata": {
    "colab": {
      "name": "test.ipynb",
      "version": "0.3.2",
      "provenance": [],
      "collapsed_sections": []
    },
    "kernelspec": {
      "name": "python2",
      "display_name": "Python 2"
    }
  },
  "cells": [
    {
      "cell_type": "markdown",
      "metadata": {
        "id": "view-in-github",
        "colab_type": "text"
      },
      "source": [
        "[View in Colaboratory](https://colab.research.google.com/github/vincent-pli/machine-learning/blob/master/test.ipynb)"
      ]
    },
    {
      "metadata": {
        "id": "dCoBBQ9DP-T-",
        "colab_type": "text"
      },
      "cell_type": "markdown",
      "source": [
        ""
      ]
    },
    {
      "metadata": {
        "id": "xrnb3w_KO_xs",
        "colab_type": "code",
        "colab": {}
      },
      "cell_type": "code",
      "source": [
        "!pip install -q --upgrade tensorflow"
      ],
      "execution_count": 0,
      "outputs": []
    },
    {
      "metadata": {
        "id": "L7lzEn8Mdtkm",
        "colab_type": "code",
        "colab": {
          "resources": {
            "http://localhost:8080/nbextensions/google.colab/files.js": {
              "data": "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",
              "ok": true,
              "headers": [
                [
                  "content-type",
                  "application/javascript"
                ]
              ],
              "status": 200,
              "status_text": ""
            }
          },
          "base_uri": "https://localhost:8080/",
          "height": 69
        },
        "outputId": "1057dc26-f3f1-4c17-b835-a7c0257b9f2b"
      },
      "cell_type": "code",
      "source": [
        "#@title Default title text\n",
        "from google.colab import files\n",
        "uploaded = files.upload()\n",
        "#print len(uploaded.keys())\n",
        "#print uploaded.keys()\n",
        "with open(\"breast_cancer.csv\", 'w') as f:\n",
        "  f.write(uploaded[uploaded.keys()[0]])\n",
        "\n",
        "#for fn in uploaded.keys():\n",
        "#  print('User uploaded file \"{name}\" with length {length} bytes'.format(name=fn, length=len(uploaded[fn])))"
      ],
      "execution_count": 58,
      "outputs": [
        {
          "output_type": "display_data",
          "data": {
            "text/plain": [
              "<IPython.core.display.HTML object>"
            ],
            "text/html": [
              "\n",
              "     <input type=\"file\" id=\"files-66522655-7201-4b90-8047-3fde93c2be10\" name=\"files[]\" multiple disabled />\n",
              "     <output id=\"result-66522655-7201-4b90-8047-3fde93c2be10\">\n",
              "      Upload widget is only available when the cell has been executed in the\n",
              "      current browser session. Please rerun this cell to enable.\n",
              "      </output>\n",
              "      <script src=\"/nbextensions/google.colab/files.js\"></script> "
            ]
          },
          "metadata": {
            "tags": []
          }
        },
        {
          "output_type": "stream",
          "text": [
            "Saving breast_cancer-1.csv to breast_cancer-1.csv\n"
          ],
          "name": "stdout"
        }
      ]
    },
    {
      "metadata": {
        "id": "s0Axkf0sPN5s",
        "colab_type": "code",
        "colab": {
          "base_uri": "https://localhost:8080/",
          "height": 187
        },
        "outputId": "5dec0d75-aa7e-4f9e-b4a3-9c763369ec1f"
      },
      "cell_type": "code",
      "source": [
        "!pip show tensorflow"
      ],
      "execution_count": 43,
      "outputs": [
        {
          "output_type": "stream",
          "text": [
            "Name: tensorflow\r\n",
            "Version: 1.7.0\r\n",
            "Summary: TensorFlow helps the tensors flow\r\n",
            "Home-page: https://www.tensorflow.org/\r\n",
            "Author: Google Inc.\r\n",
            "Author-email: opensource@google.com\r\n",
            "License: Apache 2.0\r\n",
            "Location: /usr/local/lib/python2.7/dist-packages\r\n",
            "Requires: grpcio, mock, protobuf, gast, tensorboard, wheel, absl-py, backports.weakref, enum34, six, numpy, termcolor, astor\r\n",
            "Required-by: \r\n"
          ],
          "name": "stdout"
        }
      ]
    },
    {
      "metadata": {
        "id": "-Wh5GMI8eXzg",
        "colab_type": "code",
        "colab": {
          "base_uri": "https://localhost:8080/",
          "height": 3437
        },
        "outputId": "5eee22ea-3775-47fe-a110-0932025b36dc"
      },
      "cell_type": "code",
      "source": [
        "import numpy as np\n",
        "import pandas as pd\n",
        "dataset = pd.read_csv('breast_cancer-1.csv')\n",
        "#print dataset\n",
        "X = dataset.iloc[:, :30].values\n",
        "y = dataset.iloc[:, -1].values\n",
        "\n",
        "#print y\n",
        "#print len(x[0])\n",
        "#print \"end\"\n",
        "from sklearn.preprocessing import LabelEncoder\n",
        "labelencoder = LabelEncoder()\n",
        "\n",
        "y = labelencoder.fit_transform(y)\n",
        "\n",
        "from sklearn.model_selection import train_test_split\n",
        "X_train, X_test, y_train, y_test = train_test_split(X, y, test_size = 0.2, random_state = 42)\n",
        "\n",
        "import keras\n",
        "from keras.models import Sequential\n",
        "from keras.layers import Dense\n",
        "\n",
        "classifier = Sequential()\n",
        "classifier.add(Dense(units = 16, kernel_initializer = 'uniform', activation = 'relu', input_dim = 30))\n",
        "\n",
        "classifier.add(Dense(units = 16, kernel_initializer = 'uniform', activation = 'relu'))\n",
        "\n",
        "classifier.add(Dense(units = 1, kernel_initializer = 'uniform', activation = 'sigmoid'))\n",
        "\n",
        "classifier.compile(optimizer = 'adam', loss = 'binary_crossentropy', metrics = ['accuracy'])\n",
        "\n",
        "classifier.fit(X_train, y_train, batch_size = 10, epochs = 100)\n",
        "\n",
        "y_pred = classifier.predict(X_test)\n",
        "y_pred = (y_pred > 0.5)\n",
        "\n",
        "from sklearn.metrics import confusion_matrix\n",
        "cm = confusion_matrix(y_test, y_pred)"
      ],
      "execution_count": 80,
      "outputs": [
        {
          "output_type": "stream",
          "text": [
            "Epoch 1/100\n",
            "454/454 [==============================] - 0s 898us/step - loss: 0.6876 - acc: 0.3943\n",
            "Epoch 2/100\n",
            "454/454 [==============================] - 0s 159us/step - loss: 0.6631 - acc: 0.3921\n",
            "Epoch 3/100\n",
            "454/454 [==============================] - 0s 162us/step - loss: 0.6194 - acc: 0.6410\n",
            "Epoch 4/100\n",
            "454/454 [==============================] - 0s 167us/step - loss: 0.4977 - acc: 0.8216\n",
            "Epoch 5/100\n",
            "454/454 [==============================] - 0s 170us/step - loss: 0.3503 - acc: 0.8767\n",
            "Epoch 6/100\n",
            "454/454 [==============================] - 0s 178us/step - loss: 0.3027 - acc: 0.8789\n",
            "Epoch 7/100\n",
            "454/454 [==============================] - 0s 163us/step - loss: 0.2589 - acc: 0.8965\n",
            "Epoch 8/100\n",
            "454/454 [==============================] - 0s 167us/step - loss: 0.2379 - acc: 0.9031\n",
            "Epoch 9/100\n",
            "454/454 [==============================] - 0s 168us/step - loss: 0.2292 - acc: 0.9119\n",
            "Epoch 10/100\n",
            "454/454 [==============================] - 0s 176us/step - loss: 0.2233 - acc: 0.9053\n",
            "Epoch 11/100\n",
            "454/454 [==============================] - 0s 170us/step - loss: 0.2430 - acc: 0.9097\n",
            "Epoch 12/100\n",
            "454/454 [==============================] - 0s 176us/step - loss: 0.2615 - acc: 0.8965\n",
            "Epoch 13/100\n",
            "454/454 [==============================] - 0s 167us/step - loss: 0.2175 - acc: 0.9097\n",
            "Epoch 14/100\n",
            "454/454 [==============================] - 0s 175us/step - loss: 0.2063 - acc: 0.9229\n",
            "Epoch 15/100\n",
            "454/454 [==============================] - 0s 169us/step - loss: 0.2436 - acc: 0.9031\n",
            "Epoch 16/100\n",
            "454/454 [==============================] - 0s 160us/step - loss: 0.2115 - acc: 0.9075\n",
            "Epoch 17/100\n",
            "454/454 [==============================] - 0s 168us/step - loss: 0.2034 - acc: 0.9163\n",
            "Epoch 18/100\n",
            "454/454 [==============================] - 0s 173us/step - loss: 0.2181 - acc: 0.9097\n",
            "Epoch 19/100\n",
            "454/454 [==============================] - 0s 167us/step - loss: 0.1968 - acc: 0.9273\n",
            "Epoch 20/100\n",
            "454/454 [==============================] - 0s 174us/step - loss: 0.2080 - acc: 0.9229\n",
            "Epoch 21/100\n",
            "454/454 [==============================] - 0s 173us/step - loss: 0.2009 - acc: 0.9163\n",
            "Epoch 22/100\n",
            "454/454 [==============================] - 0s 175us/step - loss: 0.2246 - acc: 0.9185\n",
            "Epoch 23/100\n",
            "454/454 [==============================] - 0s 194us/step - loss: 0.1928 - acc: 0.9229\n",
            "Epoch 24/100\n",
            "454/454 [==============================] - 0s 165us/step - loss: 0.2023 - acc: 0.9229\n",
            "Epoch 25/100\n",
            "454/454 [==============================] - 0s 174us/step - loss: 0.2348 - acc: 0.9185\n",
            "Epoch 26/100\n",
            " 10/454 [..............................] - ETA: 0s - loss: 0.1301 - acc: 0.9000"
          ],
          "name": "stdout"
        },
        {
          "output_type": "stream",
          "text": [
            "454/454 [==============================] - 0s 175us/step - loss: 0.2070 - acc: 0.9119\n",
            "Epoch 27/100\n",
            "454/454 [==============================] - 0s 186us/step - loss: 0.1934 - acc: 0.9207\n",
            "Epoch 28/100\n",
            "454/454 [==============================] - 0s 188us/step - loss: 0.2022 - acc: 0.9207\n",
            "Epoch 29/100\n",
            "454/454 [==============================] - 0s 174us/step - loss: 0.1989 - acc: 0.9229\n",
            "Epoch 30/100\n",
            "454/454 [==============================] - 0s 171us/step - loss: 0.1921 - acc: 0.9295\n",
            "Epoch 31/100\n",
            "454/454 [==============================] - 0s 181us/step - loss: 0.1932 - acc: 0.9229\n",
            "Epoch 32/100\n",
            "454/454 [==============================] - 0s 177us/step - loss: 0.2045 - acc: 0.9229\n",
            "Epoch 33/100\n",
            "454/454 [==============================] - 0s 201us/step - loss: 0.2005 - acc: 0.9141\n",
            "Epoch 34/100\n",
            "454/454 [==============================] - 0s 173us/step - loss: 0.2049 - acc: 0.9229\n",
            "Epoch 35/100\n",
            "454/454 [==============================] - 0s 174us/step - loss: 0.1937 - acc: 0.9207\n",
            "Epoch 36/100\n",
            "454/454 [==============================] - 0s 164us/step - loss: 0.1821 - acc: 0.9251\n",
            "Epoch 37/100\n",
            "454/454 [==============================] - 0s 169us/step - loss: 0.1823 - acc: 0.9273\n",
            "Epoch 38/100\n",
            "454/454 [==============================] - 0s 167us/step - loss: 0.2079 - acc: 0.9229\n",
            "Epoch 39/100\n",
            "454/454 [==============================] - 0s 164us/step - loss: 0.2950 - acc: 0.8833\n",
            "Epoch 40/100\n",
            "454/454 [==============================] - 0s 189us/step - loss: 0.1790 - acc: 0.9361\n",
            "Epoch 41/100\n",
            "454/454 [==============================] - 0s 168us/step - loss: 0.1845 - acc: 0.9229\n",
            "Epoch 42/100\n",
            "454/454 [==============================] - 0s 169us/step - loss: 0.1715 - acc: 0.9251\n",
            "Epoch 43/100\n",
            "454/454 [==============================] - 0s 176us/step - loss: 0.1931 - acc: 0.9185\n",
            "Epoch 44/100\n",
            "454/454 [==============================] - 0s 176us/step - loss: 0.1771 - acc: 0.9339\n",
            "Epoch 45/100\n",
            "454/454 [==============================] - 0s 202us/step - loss: 0.1732 - acc: 0.9273\n",
            "Epoch 46/100\n",
            "454/454 [==============================] - 0s 179us/step - loss: 0.1784 - acc: 0.9295\n",
            "Epoch 47/100\n",
            "454/454 [==============================] - 0s 189us/step - loss: 0.1858 - acc: 0.9229\n",
            "Epoch 48/100\n",
            "454/454 [==============================] - 0s 184us/step - loss: 0.1724 - acc: 0.9427\n",
            "Epoch 49/100\n",
            "454/454 [==============================] - 0s 168us/step - loss: 0.2018 - acc: 0.9295\n",
            "Epoch 50/100\n",
            "454/454 [==============================] - 0s 203us/step - loss: 0.1682 - acc: 0.9317\n"
          ],
          "name": "stdout"
        },
        {
          "output_type": "stream",
          "text": [
            "Epoch 51/100\n",
            "454/454 [==============================] - 0s 175us/step - loss: 0.1678 - acc: 0.9317\n",
            "Epoch 52/100\n",
            "454/454 [==============================] - 0s 176us/step - loss: 0.1778 - acc: 0.9317\n",
            "Epoch 53/100\n",
            "454/454 [==============================] - 0s 170us/step - loss: 0.1730 - acc: 0.9317\n",
            "Epoch 54/100\n",
            "454/454 [==============================] - 0s 174us/step - loss: 0.1740 - acc: 0.9295\n",
            "Epoch 55/100\n",
            "454/454 [==============================] - 0s 172us/step - loss: 0.1673 - acc: 0.9317\n",
            "Epoch 56/100\n",
            "454/454 [==============================] - 0s 180us/step - loss: 0.1723 - acc: 0.9295\n",
            "Epoch 57/100\n",
            "454/454 [==============================] - 0s 184us/step - loss: 0.1665 - acc: 0.9317\n",
            "Epoch 58/100\n",
            "454/454 [==============================] - 0s 177us/step - loss: 0.1702 - acc: 0.9273\n",
            "Epoch 59/100\n",
            "454/454 [==============================] - 0s 179us/step - loss: 0.1871 - acc: 0.9207\n",
            "Epoch 60/100\n",
            "454/454 [==============================] - 0s 179us/step - loss: 0.1599 - acc: 0.9361\n",
            "Epoch 61/100\n",
            "454/454 [==============================] - 0s 174us/step - loss: 0.1658 - acc: 0.9229\n",
            "Epoch 62/100\n",
            "454/454 [==============================] - 0s 188us/step - loss: 0.1606 - acc: 0.9383\n",
            "Epoch 63/100\n",
            "454/454 [==============================] - 0s 207us/step - loss: 0.1567 - acc: 0.9405\n",
            "Epoch 64/100\n",
            "454/454 [==============================] - 0s 171us/step - loss: 0.1683 - acc: 0.9295\n",
            "Epoch 65/100\n",
            "454/454 [==============================] - 0s 173us/step - loss: 0.1605 - acc: 0.9427\n",
            "Epoch 66/100\n",
            "454/454 [==============================] - 0s 178us/step - loss: 0.1683 - acc: 0.9251\n",
            "Epoch 67/100\n",
            "454/454 [==============================] - 0s 182us/step - loss: 0.1692 - acc: 0.9317\n",
            "Epoch 68/100\n",
            "454/454 [==============================] - 0s 193us/step - loss: 0.1648 - acc: 0.9317\n",
            "Epoch 69/100\n",
            "454/454 [==============================] - 0s 168us/step - loss: 0.1559 - acc: 0.9405\n",
            "Epoch 70/100\n",
            "454/454 [==============================] - 0s 181us/step - loss: 0.1508 - acc: 0.9427\n",
            "Epoch 71/100\n",
            "454/454 [==============================] - 0s 177us/step - loss: 0.1708 - acc: 0.9251\n",
            "Epoch 72/100\n",
            "454/454 [==============================] - 0s 185us/step - loss: 0.1535 - acc: 0.9339\n",
            "Epoch 73/100\n",
            "454/454 [==============================] - 0s 183us/step - loss: 0.1580 - acc: 0.9317\n",
            "Epoch 74/100\n",
            "454/454 [==============================] - 0s 176us/step - loss: 0.1615 - acc: 0.9317\n",
            "Epoch 75/100\n",
            " 10/454 [..............................] - ETA: 0s - loss: 0.0930 - acc: 1.0000"
          ],
          "name": "stdout"
        },
        {
          "output_type": "stream",
          "text": [
            "454/454 [==============================] - 0s 175us/step - loss: 0.1532 - acc: 0.9405\n",
            "Epoch 76/100\n",
            "454/454 [==============================] - 0s 177us/step - loss: 0.1781 - acc: 0.9273\n",
            "Epoch 77/100\n",
            "454/454 [==============================] - 0s 176us/step - loss: 0.1711 - acc: 0.9339\n",
            "Epoch 78/100\n",
            "454/454 [==============================] - 0s 186us/step - loss: 0.1566 - acc: 0.9273\n",
            "Epoch 79/100\n",
            "454/454 [==============================] - 0s 190us/step - loss: 0.1655 - acc: 0.9295\n",
            "Epoch 80/100\n",
            "454/454 [==============================] - 0s 181us/step - loss: 0.1599 - acc: 0.9361\n",
            "Epoch 81/100\n",
            "454/454 [==============================] - 0s 167us/step - loss: 0.1541 - acc: 0.9493\n",
            "Epoch 82/100\n",
            "454/454 [==============================] - 0s 179us/step - loss: 0.1720 - acc: 0.9405\n",
            "Epoch 83/100\n",
            "454/454 [==============================] - 0s 198us/step - loss: 0.1522 - acc: 0.9493\n",
            "Epoch 84/100\n",
            "454/454 [==============================] - 0s 187us/step - loss: 0.1574 - acc: 0.9339\n",
            "Epoch 85/100\n",
            "454/454 [==============================] - 0s 183us/step - loss: 0.1663 - acc: 0.9273\n",
            "Epoch 86/100\n",
            "454/454 [==============================] - 0s 172us/step - loss: 0.1478 - acc: 0.9515\n",
            "Epoch 87/100\n",
            "454/454 [==============================] - 0s 171us/step - loss: 0.1433 - acc: 0.9339\n",
            "Epoch 88/100\n",
            "454/454 [==============================] - 0s 193us/step - loss: 0.1521 - acc: 0.9317\n",
            "Epoch 89/100\n",
            "454/454 [==============================] - 0s 187us/step - loss: 0.1348 - acc: 0.9449\n",
            "Epoch 90/100\n",
            "454/454 [==============================] - 0s 177us/step - loss: 0.1419 - acc: 0.9339\n",
            "Epoch 91/100\n",
            "454/454 [==============================] - 0s 179us/step - loss: 0.1449 - acc: 0.9383\n",
            "Epoch 92/100\n",
            "454/454 [==============================] - 0s 192us/step - loss: 0.1361 - acc: 0.9383\n",
            "Epoch 93/100\n",
            "454/454 [==============================] - 0s 184us/step - loss: 0.1453 - acc: 0.9339\n",
            "Epoch 94/100\n",
            "454/454 [==============================] - 0s 171us/step - loss: 0.1679 - acc: 0.9163\n",
            "Epoch 95/100\n",
            "454/454 [==============================] - 0s 199us/step - loss: 0.1480 - acc: 0.9427\n",
            "Epoch 96/100\n",
            "454/454 [==============================] - 0s 170us/step - loss: 0.1381 - acc: 0.9449\n",
            "Epoch 97/100\n",
            "454/454 [==============================] - 0s 183us/step - loss: 0.1868 - acc: 0.9295\n",
            "Epoch 98/100\n",
            "454/454 [==============================] - 0s 170us/step - loss: 0.1616 - acc: 0.9427\n",
            "Epoch 99/100\n",
            " 10/454 [..............................] - ETA: 0s - loss: 0.4308 - acc: 0.8000"
          ],
          "name": "stdout"
        },
        {
          "output_type": "stream",
          "text": [
            "454/454 [==============================] - 0s 182us/step - loss: 0.1543 - acc: 0.9361\n",
            "Epoch 100/100\n",
            "454/454 [==============================] - 0s 190us/step - loss: 0.1405 - acc: 0.9449\n"
          ],
          "name": "stdout"
        }
      ]
    },
    {
      "metadata": {
        "id": "6So_G2iptmVY",
        "colab_type": "code",
        "colab": {}
      },
      "cell_type": "code",
      "source": [
        "!pip install -q keras"
      ],
      "execution_count": 0,
      "outputs": []
    },
    {
      "metadata": {
        "id": "TzSoJHQF2mKQ",
        "colab_type": "code",
        "colab": {
          "base_uri": "https://localhost:8080/",
          "height": 51
        },
        "outputId": "2e6a2cac-fcf7-4c5b-dc40-603af449970d"
      },
      "cell_type": "code",
      "source": [
        "#@title Default title text\n",
        "cm"
      ],
      "execution_count": 81,
      "outputs": [
        {
          "output_type": "execute_result",
          "data": {
            "text/plain": [
              "array([[39,  7],\n",
              "       [ 0, 68]])"
            ]
          },
          "metadata": {
            "tags": []
          },
          "execution_count": 81
        }
      ]
    }
  ]
}